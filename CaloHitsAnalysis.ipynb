{
 "cells": [
  {
   "cell_type": "code",
   "execution_count": 1,
   "id": "6fe217b8",
   "metadata": {},
   "outputs": [
    {
     "name": "stderr",
     "output_type": "stream",
     "text": [
      "/Users/owen/.pyenv/versions/3.8.1/lib/python3.8/site-packages/pandas/compat/__init__.py:109: UserWarning: Could not import the lzma module. Your installed Python is incomplete. Attempting to use lzma compression will result in a RuntimeError.\n",
      "  warnings.warn(msg)\n"
     ]
    }
   ],
   "source": [
    "import uproot as ur\n",
    "import matplotlib.pyplot as plt\n",
    "import numpy as np\n",
    "import awkward as ak\n",
    "\n",
    "import pandas as pd\n",
    "\n",
    "\n",
    "import math\n",
    "\n",
    "\n",
    "#verbose = True\n",
    "verbose = False"
   ]
  },
  {
   "cell_type": "markdown",
   "id": "c8a17066",
   "metadata": {},
   "source": [
    "## Calorimeter Hits Analysis\n",
    "Look at basic hit information for the calorimeter\n"
   ]
  },
  {
   "cell_type": "code",
   "execution_count": 199,
   "id": "b535f9c7",
   "metadata": {},
   "outputs": [],
   "source": [
    "\n",
    "gen_events = ur.open('sim_gen-100evts.root:events')\n",
    "\n",
    "#gen_events = ur.open('sim_gen-q2min-100-1k.root:events')\n",
    "\n",
    "#gen_events = ur.open('sim_gen-1500evts.root:events')\n"
   ]
  },
  {
   "cell_type": "code",
   "execution_count": 200,
   "id": "49899883",
   "metadata": {},
   "outputs": [],
   "source": [
    "hit_collections = [\n",
    "    'EcalBarrelHits',\n",
    "    'EcalEndcapNHits',\n",
    "    'EcalEndcapPHits',\n",
    "    'HcalBarrelHits',\n",
    "    'HcalHadronEndcapHits',\n",
    "    'HcalElectronEndcapHits',\n",
    "]\n",
    "\n",
    "\n"
   ]
  },
  {
   "cell_type": "code",
   "execution_count": 201,
   "id": "4d93af02",
   "metadata": {},
   "outputs": [],
   "source": [
    "def get_position_vector(varname='EcalBarrelHits'):\n",
    "    x = gen_events[\"%s.position.x\"%varname].array()\n",
    "    y = gen_events[\"%s.position.y\"%varname].array()\n",
    "    z = gen_events[\"%s.position.z\"%varname].array()    \n",
    "    return x, y, z"
   ]
  },
  {
   "cell_type": "code",
   "execution_count": 202,
   "id": "f7b56103",
   "metadata": {},
   "outputs": [],
   "source": [
    "def rho_theta_phi_from_xyz( x, y, z ):\n",
    "    rho = np.sqrt( x*x + y*y )\n",
    "    theta = np.arctan2( rho, z )\n",
    "    phi = np.arctan2( y, x )\n",
    "    return rho, theta, phi"
   ]
  },
  {
   "cell_type": "code",
   "execution_count": 203,
   "id": "da82e828",
   "metadata": {},
   "outputs": [],
   "source": [
    "hit_x = {}\n",
    "hit_y = {}\n",
    "hit_z = {}\n",
    "\n",
    "\n",
    "\n",
    "hit_rho = {}\n",
    "hit_theta = {}\n",
    "hit_phi = {}\n",
    "\n",
    "for cn in hit_collections :\n",
    "    hit_x[cn], hit_y[cn], hit_z[cn] = get_position_vector( cn )\n",
    "    hit_rho[cn], hit_theta[cn], hit_phi[cn] = rho_theta_phi_from_xyz( hit_x[cn], hit_y[cn], hit_z[cn])\n",
    "\n"
   ]
  },
  {
   "cell_type": "code",
   "execution_count": 204,
   "id": "bed28dc8",
   "metadata": {},
   "outputs": [
    {
     "name": "stdout",
     "output_type": "stream",
     "text": [
      "event   0 has  1787 hits in EcalBarrelHits\n",
      "            EcalBarrelHits hit   0 : x,y,z = (  -58.0,   955.3,  -193.9), rho,theta,phi = ( 957.0,   1.771,   1.631)\n",
      "            EcalBarrelHits hit   1 : x,y,z = (  -59.0,   966.8,  -195.9), rho,theta,phi = ( 968.6,   1.770,   1.632)\n",
      "            EcalBarrelHits hit   2 : x,y,z = (  -59.5,   978.4,  -198.4), rho,theta,phi = ( 980.2,   1.770,   1.632)\n",
      "            EcalBarrelHits hit   3 : x,y,z = (  -60.5,   989.9,  -200.4), rho,theta,phi = ( 991.7,   1.770,   1.632)\n",
      "            EcalBarrelHits hit   4 : x,y,z = (  -63.0,  1001.5,  -202.4), rho,theta,phi = (1003.4,   1.770,   1.634)\n",
      "            EcalBarrelHits hit   5 : x,y,z = (  -61.5,  1024.6,  -206.9), rho,theta,phi = (1026.4,   1.770,   1.631)\n",
      "            EcalBarrelHits hit   6 : x,y,z = (  -23.0,  1013.0,  -220.9), rho,theta,phi = (1013.3,   1.785,   1.593)\n",
      "            EcalBarrelHits hit   7 : x,y,z = (  -23.0,  1013.0,  -220.4), rho,theta,phi = (1013.3,   1.785,   1.593)\n",
      "            EcalBarrelHits hit   8 : x,y,z = (  -36.5,  1013.0,  -225.4), rho,theta,phi = (1013.7,   1.790,   1.607)\n",
      "            EcalBarrelHits hit   9 : x,y,z = (  -26.0,  1024.6,  -204.9), rho,theta,phi = (1024.9,   1.768,   1.596)\n",
      "event   0 has    37 hits in EcalEndcapNHits\n",
      "           EcalEndcapNHits hit   0 : x,y,z = (  430.5,  -676.5, -1755.0), rho,theta,phi = ( 801.9,   2.713,  -1.004)\n",
      "           EcalEndcapNHits hit   1 : x,y,z = (  471.5,  -676.5, -1755.0), rho,theta,phi = ( 824.6,   2.702,  -0.962)\n",
      "           EcalEndcapNHits hit   2 : x,y,z = ( -512.5,   471.5, -1755.0), rho,theta,phi = ( 696.4,   2.764,   2.398)\n",
      "           EcalEndcapNHits hit   3 : x,y,z = ( -553.5,  -594.5, -1755.0), rho,theta,phi = ( 812.3,   2.708,  -2.320)\n",
      "           EcalEndcapNHits hit   4 : x,y,z = ( -225.5,   676.5, -1755.0), rho,theta,phi = ( 713.1,   2.756,   1.893)\n",
      "           EcalEndcapNHits hit   5 : x,y,z = (  594.5,  -102.5, -1755.0), rho,theta,phi = ( 603.3,   2.811,  -0.171)\n",
      "           EcalEndcapNHits hit   6 : x,y,z = (  840.5,   307.5, -1755.0), rho,theta,phi = ( 895.0,   2.670,   0.351)\n",
      "           EcalEndcapNHits hit   7 : x,y,z = (  799.5,   348.5, -1755.0), rho,theta,phi = ( 872.2,   2.680,   0.411)\n",
      "           EcalEndcapNHits hit   8 : x,y,z = (  840.5,   389.5, -1755.0), rho,theta,phi = ( 926.4,   2.656,   0.434)\n",
      "           EcalEndcapNHits hit   9 : x,y,z = (  799.5,   389.5, -1755.0), rho,theta,phi = ( 889.3,   2.673,   0.453)\n",
      "event   0 has  4496 hits in EcalEndcapPHits\n",
      "           EcalEndcapPHits hit   0 : x,y,z = (   39.6, -1446.0,  2534.5), rho,theta,phi = (1446.6,   0.519,  -1.543)\n",
      "           EcalEndcapPHits hit   1 : x,y,z = (   40.5, -1449.4,  2534.5), rho,theta,phi = (1450.0,   0.520,  -1.543)\n",
      "           EcalEndcapPHits hit   2 : x,y,z = (   43.0, -1445.1,  2534.5), rho,theta,phi = (1445.8,   0.518,  -1.541)\n",
      "           EcalEndcapPHits hit   3 : x,y,z = ( -605.9, -1079.1,  2546.9), rho,theta,phi = (1237.5,   0.452,  -2.082)\n",
      "           EcalEndcapPHits hit   4 : x,y,z = ( -609.2, -1080.0,  2546.9), rho,theta,phi = (1240.0,   0.453,  -2.084)\n",
      "           EcalEndcapPHits hit   5 : x,y,z = ( -608.6, -1068.9,  2534.5), rho,theta,phi = (1230.0,   0.452,  -2.088)\n",
      "           EcalEndcapPHits hit   6 : x,y,z = ( -421.2,   611.8,  2534.5), rho,theta,phi = ( 742.8,   0.285,   2.174)\n",
      "           EcalEndcapPHits hit   7 : x,y,z = (-1032.1, -1178.8,  2609.1), rho,theta,phi = (1566.8,   0.541,  -2.290)\n",
      "           EcalEndcapPHits hit   8 : x,y,z = (-1012.5, -1184.4,  2633.9), rho,theta,phi = (1558.2,   0.534,  -2.278)\n",
      "           EcalEndcapPHits hit   9 : x,y,z = (-1011.5, -1187.8,  2633.9), rho,theta,phi = (1560.1,   0.535,  -2.276)\n",
      "event   0 has   600 hits in HcalBarrelHits\n",
      "            HcalBarrelHits hit   0 : x,y,z = ( -200.0, -2287.5,  2622.5), rho,theta,phi = (2296.2,   0.719,  -1.658)\n",
      "            HcalBarrelHits hit   1 : x,y,z = ( -970.5, -2081.0,  2222.5), rho,theta,phi = (2296.2,   0.802,  -2.007)\n",
      "            HcalBarrelHits hit   2 : x,y,z = ( -958.0, -2059.4,  2122.5), rho,theta,phi = (2271.3,   0.819,  -2.006)\n",
      "            HcalBarrelHits hit   3 : x,y,z = ( -871.4,  2109.4,  2422.5), rho,theta,phi = (2282.3,   0.756,   1.963)\n",
      "            HcalBarrelHits hit   4 : x,y,z = ( -970.5,  2081.0,  2522.5), rho,theta,phi = (2296.2,   0.738,   2.007)\n",
      "            HcalBarrelHits hit   5 : x,y,z = ( -983.0,  2102.7,  2522.5), rho,theta,phi = (2321.1,   0.744,   2.008)\n",
      "            HcalBarrelHits hit   6 : x,y,z = ( -995.5,  2124.3,  2422.5), rho,theta,phi = (2346.0,   0.769,   2.009)\n",
      "            HcalBarrelHits hit   7 : x,y,z = (-2262.5,   200.0,  2022.5), rho,theta,phi = (2271.3,   0.843,   3.053)\n",
      "            HcalBarrelHits hit   8 : x,y,z = (-1242.9, -1952.7,  2022.5), rho,theta,phi = (2314.7,   0.853,  -2.138)\n",
      "            HcalBarrelHits hit   9 : x,y,z = (-1143.8, -1981.0,  2022.5), rho,theta,phi = (2287.5,   0.847,  -2.094)\n",
      "event   0 has  1337 hits in HcalHadronEndcapHits\n",
      "      HcalHadronEndcapHits hit   0 : x,y,z = (  -46.7,  1333.3,  4181.5), rho,theta,phi = (1334.2,   0.309,   1.606)\n",
      "      HcalHadronEndcapHits hit   1 : x,y,z = ( 1190.1,  1354.2,  4181.5), rho,theta,phi = (1802.8,   0.407,   0.850)\n",
      "      HcalHadronEndcapHits hit   2 : x,y,z = (  122.5,   -70.7,  4135.5), rho,theta,phi = ( 141.4,   0.034,  -0.524)\n",
      "      HcalHadronEndcapHits hit   3 : x,y,z = (  122.5,   -70.7,  4158.5), rho,theta,phi = ( 141.4,   0.034,  -0.524)\n",
      "      HcalHadronEndcapHits hit   4 : x,y,z = (  122.5,   -70.7,  4181.5), rho,theta,phi = ( 141.4,   0.034,  -0.524)\n",
      "      HcalHadronEndcapHits hit   5 : x,y,z = (  148.4,  -167.3,  4181.5), rho,theta,phi = ( 223.6,   0.053,  -0.845)\n",
      "      HcalHadronEndcapHits hit   6 : x,y,z = (  426.1,  -817.6,  4112.5), rho,theta,phi = ( 922.0,   0.221,  -1.090)\n",
      "      HcalHadronEndcapHits hit   7 : x,y,z = (  355.4,  -940.0,  4066.5), rho,theta,phi = (1005.0,   0.242,  -1.209)\n",
      "      HcalHadronEndcapHits hit   8 : x,y,z = (  452.0,  -914.2,  4066.5), rho,theta,phi = (1019.8,   0.246,  -1.112)\n",
      "      HcalHadronEndcapHits hit   9 : x,y,z = (  329.5,  -843.5,  4066.5), rho,theta,phi = ( 905.5,   0.219,  -1.198)\n",
      "event   0 has     4 hits in HcalElectronEndcapHits\n",
      "    HcalElectronEndcapHits hit   0 : x,y,z = (  831.4,   398.4, -1986.4), rho,theta,phi = ( 922.0,   2.707,   0.447)\n",
      "    HcalElectronEndcapHits hit   1 : x,y,z = ( 1121.2,   320.7, -1986.4), rho,theta,phi = (1166.2,   2.611,   0.279)\n",
      "    HcalElectronEndcapHits hit   2 : x,y,z = ( 1121.2,   320.7, -2034.2), rho,theta,phi = (1166.2,   2.621,   0.279)\n",
      "    HcalElectronEndcapHits hit   3 : x,y,z = ( 1121.2,   320.7, -2058.1), rho,theta,phi = (1166.2,   2.626,   0.279)\n"
     ]
    }
   ],
   "source": [
    "\n",
    "for cn in hit_collections :\n",
    "    for ei in range(1):\n",
    "        print( 'event %3d has %5d hits in %s' % (ei, len(hit_x[cn][ei]),  cn) )\n",
    "        max = 10\n",
    "        if len(hit_x[cn][ei]) < max : max = len(hit_x[cn][ei])\n",
    "        for hi in range(max):\n",
    "            print(' %25s hit %3d : x,y,z = (%7.1f, %7.1f, %7.1f), rho,theta,phi = (%6.1f, %7.3f, %7.3f)' %\n",
    "                 ( cn, hi, \n",
    "                  hit_x[cn][ei][hi], hit_y[cn][ei][hi], hit_z[cn][ei][hi], \n",
    "                  hit_rho[cn][ei][hi], hit_theta[cn][ei][hi], hit_phi[cn][ei][hi]))\n",
    "\n"
   ]
  },
  {
   "cell_type": "markdown",
   "id": "d4f62f37",
   "metadata": {},
   "source": [
    "## Histograms\n"
   ]
  },
  {
   "cell_type": "code",
   "execution_count": 205,
   "id": "241cdf7a",
   "metadata": {},
   "outputs": [],
   "source": [
    "\n",
    "#hit_collection_name = 'EcalBarrelHits'\n",
    "#hit_collection_name = 'EcalEndcapNHits'\n",
    "hit_collection_name = 'EcalEndcapPHits'\n",
    "\n",
    "#hit_collection_name = 'HcalBarrelHits'\n",
    "#hit_collection_name = 'HcalHadronEndcapHits'\n",
    "#hit_collection_name = 'HcalElectronEndcapHits'\n",
    "\n",
    "df_dict = {}\n",
    "df_dict['x'] = ak.flatten(hit_x[hit_collection_name], axis=None)\n",
    "df_dict['y'] = ak.flatten(hit_y[hit_collection_name], axis=None)\n",
    "df_dict['z'] = ak.flatten(hit_z[hit_collection_name], axis=None)\n",
    "df_dict['rho'] = ak.flatten(hit_rho[hit_collection_name], axis=None)\n",
    "df_dict['theta'] = ak.flatten(hit_theta[hit_collection_name], axis=None)\n",
    "df_dict['phi'] = ak.flatten(hit_phi[hit_collection_name], axis=None)\n",
    "\n",
    "\n",
    "df = pd.DataFrame.from_dict(df_dict)"
   ]
  },
  {
   "cell_type": "code",
   "execution_count": 206,
   "id": "bde6f044",
   "metadata": {},
   "outputs": [
    {
     "data": {
      "text/html": [
       "<div>\n",
       "<style scoped>\n",
       "    .dataframe tbody tr th:only-of-type {\n",
       "        vertical-align: middle;\n",
       "    }\n",
       "\n",
       "    .dataframe tbody tr th {\n",
       "        vertical-align: top;\n",
       "    }\n",
       "\n",
       "    .dataframe thead th {\n",
       "        text-align: right;\n",
       "    }\n",
       "</style>\n",
       "<table border=\"1\" class=\"dataframe\">\n",
       "  <thead>\n",
       "    <tr style=\"text-align: right;\">\n",
       "      <th></th>\n",
       "      <th>x</th>\n",
       "      <th>y</th>\n",
       "      <th>z</th>\n",
       "      <th>rho</th>\n",
       "      <th>theta</th>\n",
       "      <th>phi</th>\n",
       "    </tr>\n",
       "  </thead>\n",
       "  <tbody>\n",
       "    <tr>\n",
       "      <th>0</th>\n",
       "      <td>39.607319</td>\n",
       "      <td>-1446.020837</td>\n",
       "      <td>2534.50</td>\n",
       "      <td>1446.563168</td>\n",
       "      <td>0.518634</td>\n",
       "      <td>-1.543413</td>\n",
       "    </tr>\n",
       "    <tr>\n",
       "      <th>1</th>\n",
       "      <td>40.513185</td>\n",
       "      <td>-1449.401577</td>\n",
       "      <td>2534.50</td>\n",
       "      <td>1449.967672</td>\n",
       "      <td>0.519646</td>\n",
       "      <td>-1.542852</td>\n",
       "    </tr>\n",
       "    <tr>\n",
       "      <th>2</th>\n",
       "      <td>42.988059</td>\n",
       "      <td>-1445.114970</td>\n",
       "      <td>2534.50</td>\n",
       "      <td>1445.754215</td>\n",
       "      <td>0.518393</td>\n",
       "      <td>-1.541058</td>\n",
       "    </tr>\n",
       "    <tr>\n",
       "      <th>3</th>\n",
       "      <td>-605.858612</td>\n",
       "      <td>-1079.076384</td>\n",
       "      <td>2546.93</td>\n",
       "      <td>1237.525959</td>\n",
       "      <td>0.452295</td>\n",
       "      <td>-2.082396</td>\n",
       "    </tr>\n",
       "    <tr>\n",
       "      <th>4</th>\n",
       "      <td>-609.239353</td>\n",
       "      <td>-1079.982250</td>\n",
       "      <td>2546.93</td>\n",
       "      <td>1239.973488</td>\n",
       "      <td>0.453073</td>\n",
       "      <td>-2.084415</td>\n",
       "    </tr>\n",
       "    <tr>\n",
       "      <th>...</th>\n",
       "      <td>...</td>\n",
       "      <td>...</td>\n",
       "      <td>...</td>\n",
       "      <td>...</td>\n",
       "      <td>...</td>\n",
       "      <td>...</td>\n",
       "    </tr>\n",
       "    <tr>\n",
       "      <th>775805</th>\n",
       "      <td>247.041444</td>\n",
       "      <td>-705.603837</td>\n",
       "      <td>2954.83</td>\n",
       "      <td>747.600328</td>\n",
       "      <td>0.247809</td>\n",
       "      <td>-1.234020</td>\n",
       "    </tr>\n",
       "    <tr>\n",
       "      <th>775806</th>\n",
       "      <td>247.947311</td>\n",
       "      <td>-708.984577</td>\n",
       "      <td>2969.76</td>\n",
       "      <td>751.090540</td>\n",
       "      <td>0.247718</td>\n",
       "      <td>-1.234369</td>\n",
       "    </tr>\n",
       "    <tr>\n",
       "      <th>775807</th>\n",
       "      <td>248.853178</td>\n",
       "      <td>-712.365318</td>\n",
       "      <td>2984.69</td>\n",
       "      <td>754.580844</td>\n",
       "      <td>0.247628</td>\n",
       "      <td>-1.234715</td>\n",
       "    </tr>\n",
       "    <tr>\n",
       "      <th>775808</th>\n",
       "      <td>249.759044</td>\n",
       "      <td>-715.746058</td>\n",
       "      <td>2999.62</td>\n",
       "      <td>758.071237</td>\n",
       "      <td>0.247539</td>\n",
       "      <td>-1.235058</td>\n",
       "    </tr>\n",
       "    <tr>\n",
       "      <th>775809</th>\n",
       "      <td>256.277799</td>\n",
       "      <td>-699.505497</td>\n",
       "      <td>2880.18</td>\n",
       "      <td>744.973993</td>\n",
       "      <td>0.253108</td>\n",
       "      <td>-1.219613</td>\n",
       "    </tr>\n",
       "  </tbody>\n",
       "</table>\n",
       "<p>775810 rows × 6 columns</p>\n",
       "</div>"
      ],
      "text/plain": [
       "                 x            y        z          rho     theta       phi\n",
       "0        39.607319 -1446.020837  2534.50  1446.563168  0.518634 -1.543413\n",
       "1        40.513185 -1449.401577  2534.50  1449.967672  0.519646 -1.542852\n",
       "2        42.988059 -1445.114970  2534.50  1445.754215  0.518393 -1.541058\n",
       "3      -605.858612 -1079.076384  2546.93  1237.525959  0.452295 -2.082396\n",
       "4      -609.239353 -1079.982250  2546.93  1239.973488  0.453073 -2.084415\n",
       "...            ...          ...      ...          ...       ...       ...\n",
       "775805  247.041444  -705.603837  2954.83   747.600328  0.247809 -1.234020\n",
       "775806  247.947311  -708.984577  2969.76   751.090540  0.247718 -1.234369\n",
       "775807  248.853178  -712.365318  2984.69   754.580844  0.247628 -1.234715\n",
       "775808  249.759044  -715.746058  2999.62   758.071237  0.247539 -1.235058\n",
       "775809  256.277799  -699.505497  2880.18   744.973993  0.253108 -1.219613\n",
       "\n",
       "[775810 rows x 6 columns]"
      ]
     },
     "execution_count": 206,
     "metadata": {},
     "output_type": "execute_result"
    }
   ],
   "source": [
    "df"
   ]
  },
  {
   "cell_type": "code",
   "execution_count": 207,
   "id": "da33bc59",
   "metadata": {},
   "outputs": [
    {
     "data": {
      "image/png": "[encoded data removed]",
      "text/plain": [
       "<Figure size 1728x1296 with 6 Axes>"
      ]
     },
     "metadata": {
      "needs_background": "light"
     },
     "output_type": "display_data"
    }
   ],
   "source": [
    "fig,ax = plt.subplots(2,3,figsize=(24,18))\n",
    "ax[0][0].hist(df['phi'],bins=20)\n",
    "ax[0][1].hist(df['rho'],bins=20)\n",
    "ax[0][2].hist(df['theta'],bins=20)\n",
    "ax[1][0].hist(df['x'],bins=20)\n",
    "ax[1][1].hist(df['y'],bins=20)\n",
    "ax[1][2].hist(df['z'],bins=20)\n",
    "plt.show()"
   ]
  },
  {
   "cell_type": "code",
   "execution_count": 208,
   "id": "453f72d7",
   "metadata": {},
   "outputs": [
    {
     "data": {
      "image/png": "[encoded data removed]",
      "text/plain": [
       "<Figure size 1728x792 with 2 Axes>"
      ]
     },
     "metadata": {
      "needs_background": "light"
     },
     "output_type": "display_data"
    }
   ],
   "source": [
    "fig,ax = plt.subplots(1,2,figsize=(24,11))\n",
    "ax = ax.flatten()\n",
    "ax[0].scatter(df['x'],df['y'])\n",
    "ax[1].scatter(df['z'],df['rho'])\n",
    "plt.show()"
   ]
  },
  {
   "cell_type": "markdown",
   "id": "19f21adf",
   "metadata": {},
   "source": [
    "# Ranges of geometry"
   ]
  },
  {
   "cell_type": "code",
   "execution_count": 209,
   "id": "493875ba",
   "metadata": {},
   "outputs": [
    {
     "name": "stdout",
     "output_type": "stream",
     "text": [
      "theta:    0.066,   0.723  (    3.8,    41.4)\n",
      "rho:      198.0,  2241.0\n",
      "z:       2534.5,  2999.6\n"
     ]
    }
   ],
   "source": [
    "\n",
    "print('theta:  %7.3f, %7.3f  (%7.1f, %7.1f)' % \n",
    "      ( np.min(df_dict['theta']), np.max(df_dict['theta']),\n",
    "        180.*(np.min(df_dict['theta']))/3.14159265, 180.*(np.max(df_dict['theta']))/3.14159265,\n",
    "      ) )\n",
    "\n",
    "print('rho:    %7.1f, %7.1f' % ( np.min(df_dict['rho']), np.max(df_dict['rho'])) )\n",
    "print('z:      %7.1f, %7.1f' % ( np.min(df_dict['z']), np.max(df_dict['z'])) )"
   ]
  },
  {
   "cell_type": "code",
   "execution_count": null,
   "id": "76150a62",
   "metadata": {},
   "outputs": [],
   "source": []
  }
 ],
 "metadata": {
  "kernelspec": {
   "display_name": "Python 3",
   "language": "python",
   "name": "python3"
  },
  "language_info": {
   "codemirror_mode": {
    "name": "ipython",
    "version": 3
   },
   "file_extension": ".py",
   "mimetype": "text/x-python",
   "name": "python",
   "nbconvert_exporter": "python",
   "pygments_lexer": "ipython3",
   "version": "3.8.1"
  }
 },
 "nbformat": 4,
 "nbformat_minor": 5
}
